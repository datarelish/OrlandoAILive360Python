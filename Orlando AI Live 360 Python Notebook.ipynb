{
  "cells": [
    {
      "metadata": {},
      "cell_type": "markdown",
      "source": "# Import Libraries"
    },
    {
      "metadata": {
        "trusted": true
      },
      "cell_type": "code",
      "source": "# roc curve and auc on imbalanced dataset\n\n# Import required libraries\n\nfrom sklearn.datasets import make_classification\nfrom sklearn.neighbors import KNeighborsClassifier\nfrom sklearn.model_selection import train_test_split\nfrom sklearn.metrics import f1_score\nfrom sklearn.metrics import roc_curve\nfrom sklearn.metrics import roc_auc_score\nfrom sklearn.metrics import auc\nfrom sklearn.metrics import precision_recall_curve\nfrom sklearn.metrics import average_precision_score\nfrom matplotlib import pyplot\n\n\n",
      "execution_count": 1,
      "outputs": []
    },
    {
      "metadata": {},
      "cell_type": "markdown",
      "source": "# Create Dataset\n\nNext, we create a two-class dataset."
    },
    {
      "metadata": {
        "trusted": true
      },
      "cell_type": "code",
      "source": "# Create two class dataset\nx, y = make_classification(n_samples=1000, n_classes=2, weights=[1,1], random_state=1)",
      "execution_count": 2,
      "outputs": []
    },
    {
      "metadata": {},
      "cell_type": "markdown",
      "source": "# Create Training and Test Sets\n\nThe data is split into two sets: a training set and a test set.\nThe test set is set to 70% of the whole dataset."
    },
    {
      "metadata": {
        "trusted": true
      },
      "cell_type": "code",
      "source": "# split into train/test sets\ntrainx, testx, trainy, testy = train_test_split(x, y, test_size=0.5, random_state=2)",
      "execution_count": 3,
      "outputs": []
    },
    {
      "metadata": {},
      "cell_type": "markdown",
      "source": "# Fit a Model\n\nIn this example, the KNeighboursClassifier is used. More information can be obtained here https://scikit-learn.org/stable/modules/generated/sklearn.neighbors.KNeighborsClassifier.html\n\nThe k-nearest neighbors algorithm (k-NN) is a non-parametric method used for classification and regression. The input consists of the k closest training examples in the feature space. \n\nFor classification, the output is a class membership. An object is classified by a majority vote of its neighbors, with the object being assigned to the class most common among its k nearest neighbors (k is a positive integer, typically small). If k = 1, then the object is simply assigned to the class of that single nearest neighbor.\nFor regression, the output is the property value for the object. This value is the average of the values of its k nearest neighbors.\n"
    },
    {
      "metadata": {
        "trusted": true
      },
      "cell_type": "code",
      "source": "# fit a model\nmodel = KNeighborsClassifier(n_neighbors=3)\nmodel.fit(trainx, trainy)\n",
      "execution_count": 4,
      "outputs": [
        {
          "output_type": "execute_result",
          "execution_count": 4,
          "data": {
            "text/plain": "KNeighborsClassifier(algorithm='auto', leaf_size=30, metric='minkowski',\n           metric_params=None, n_jobs=1, n_neighbors=3, p=2,\n           weights='uniform')"
          },
          "metadata": {}
        }
      ]
    },
    {
      "metadata": {},
      "cell_type": "markdown",
      "source": "# Predicting Probabilities\n\nHere, we predict probabilities and assign them to the variable predictedprobabilities."
    },
    {
      "metadata": {
        "trusted": true
      },
      "cell_type": "code",
      "source": "# predict probabilities\npredictedprobabilities = model.predict_proba(testx)\n# keep probabilities for the positive outcome only\npredictedprobabilities = predictedprobabilities[:, 1]\n\n",
      "execution_count": 5,
      "outputs": []
    },
    {
      "metadata": {
        "trusted": true
      },
      "cell_type": "code",
      "source": "\n\n# predict class values\nyhat = model.predict(testx)\n# calculate precision-recall curve\nprecision, recall, thresholds = precision_recall_curve(testy, predictedprobabilities)\n# calculate F1 score\nf1 = f1_score(testy, yhat)\n\n",
      "execution_count": 8,
      "outputs": []
    },
    {
      "metadata": {},
      "cell_type": "markdown",
      "source": "# Calculate AUC\n\nAUC stands for “area under curve”. It refers to the amount of area under the ROC curve, which theoretically is a value between 0 and 1. \n\nThe worst possible curve in practice is a diagonal line, because this means that it is at the same level of chance.\n\nUsing the AUC metric you can quickly compare multiple learning models. \n\nUnlike accuracy, precision, recall and F1 score, AUC does not tell us what performance to expect from the model for a given threshold setting. Also, it cannot be used to determine the optimal value for threshold. AUC is only one measure and we need the others to build up a pattern of understanding. \n\n"
    },
    {
      "metadata": {
        "trusted": true
      },
      "cell_type": "code",
      "source": "# calculate AUC\nauc = roc_auc_score(testy, predictedprobabilities)\nprint('AUC: %.3f' % auc)\n\nap = average_precision_score(testy, predictedprobabilities)\nprint('f1=%.3f auc=%.3f ap=%.3f' % (f1, auc, ap))\n",
      "execution_count": 9,
      "outputs": [
        {
          "output_type": "stream",
          "text": "AUC: 0.895\nf1=0.836 auc=0.895 ap=0.840\n",
          "name": "stdout"
        }
      ]
    },
    {
      "metadata": {},
      "cell_type": "markdown",
      "source": "# Calculate ROC Curve\n\n\nA higher value on the horizontal axis implies worse performance, while on the vertical axis a higher value implies a better performance\n"
    },
    {
      "metadata": {
        "trusted": true
      },
      "cell_type": "code",
      "source": "# calculate roc curve\nfpr, tpr, thresholds = roc_curve(testy, predictedprobabilities)\n",
      "execution_count": 10,
      "outputs": []
    },
    {
      "metadata": {},
      "cell_type": "markdown",
      "source": "# Data Visualization\n\nThere's no substitute for seeing it in action."
    },
    {
      "metadata": {
        "trusted": true
      },
      "cell_type": "code",
      "source": "# plot no skill\npyplot.plot([0, 1], [0, 1], linestyle='--')\n# plot the roc curve for the model\npyplot.plot(fpr, tpr, marker='.')\n# show the plot\npyplot.savefig('conf.png')\npyplot.show()\n\n\nprint('f1=%.3f auc=%.3f ap=%.3f' % (f1, auc, ap))",
      "execution_count": 11,
      "outputs": [
        {
          "output_type": "display_data",
          "data": {
            "image/png": "[encoded data removed]",
            "text/plain": "<Figure size 432x288 with 1 Axes>"
          },
          "metadata": {
            "needs_background": "light"
          }
        },
        {
          "output_type": "stream",
          "text": "f1=0.836 auc=0.895 ap=0.840\n",
          "name": "stdout"
        }
      ]
    },
    {
      "metadata": {},
      "cell_type": "markdown",
      "source": "The model has a lot of value. "
    },
    {
      "metadata": {
        "trusted": true
      },
      "cell_type": "code",
      "source": "",
      "execution_count": null,
      "outputs": []
    }
  ],
  "metadata": {
    "kernelspec": {
      "name": "python36",
      "display_name": "Python 3.6",
      "language": "python"
    },
    "language_info": {
      "mimetype": "text/x-python",
      "nbconvert_exporter": "python",
      "name": "python",
      "pygments_lexer": "ipython3",
      "version": "3.6.6",
      "file_extension": ".py",
      "codemirror_mode": {
        "version": 3,
        "name": "ipython"
      }
    }
  },
  "nbformat": 4,
  "nbformat_minor": 2
}